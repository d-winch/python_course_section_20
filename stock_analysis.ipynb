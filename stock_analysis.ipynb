{
 "cells": [
  {
   "cell_type": "code",
   "execution_count": 1,
   "metadata": {
    "scrolled": true
   },
   "outputs": [],
   "source": [
    "from pandas_datareader import data\n",
    "import datetime\n",
    "from bokeh.plotting import figure, show, output_file\n",
    "\n",
    "#data.DateReader? gives doc\n",
    "start = datetime.datetime(2018,9,1)\n",
    "end = datetime.datetime(2018,10,1)\n",
    "df = data.DataReader(name=\"TSLA\", data_source=\"yahoo\", start=start, retry_count=3)\n",
    "\n",
    "def inc_dec(c, o):\n",
    "    if c > o:\n",
    "        value=\"Increase\"\n",
    "    elif c < o:\n",
    "        value=\"Decrease\"\n",
    "    else:\n",
    "        value=\"Equal\"\n",
    "    return value\n",
    "\n",
    "df[\"Status\"] = [inc_dec(c, o) for c, o in zip(df.Close, df.Open)]\n",
    "df[\"Middle\"] = (df.Open+df.Close)/2\n",
    "df[\"Height\"] = abs(df.Close-df.Open) # abs gives positive\n",
    "\n",
    "p = figure(x_axis_type='datetime', width=1000, height=350, sizing_mode='scale_width')\n",
    "p.title.text = \"Candlestick Chart\"\n",
    "p.grid.grid_line_alpha = 0.3\n",
    "\n",
    "p.segment(df.index, df.High, df.index, df.Low, color=\"Black\")\n",
    "\n",
    "hours_12 = 12*60*60*1000 # in milli for width\n",
    "\n",
    "increase = df.index[df.Close > df.Open]\n",
    "decrease = df.index[df.Close < df.Open]\n",
    "\n",
    "p.rect(df.index[df.Status==\"Increase\"], # Plot where close > open price\n",
    "       df.Middle[df.Status==\"Increase\"], # mid point\n",
    "       hours_12, # width\n",
    "       df.Height[df.Status==\"Increase\"], # height\n",
    "       fill_color=\"#32CD32\",\n",
    "       line_color=\"black\"\n",
    "      )\n",
    "p.rect(df.index[df.Status==\"Decrease\"],\n",
    "       df.Middle[df.Status==\"Decrease\"],\n",
    "       hours_12,\n",
    "       df.Height[df.Status==\"Decrease\"],\n",
    "       fill_color=\"#DC143C\",\n",
    "       line_color=\"black\"\n",
    "      )\n",
    "\n",
    "output_file(\"candle.html\")\n",
    "show(p)"
   ]
  },
  {
   "cell_type": "code",
   "execution_count": null,
   "metadata": {},
   "outputs": [],
   "source": []
  }
 ],
 "metadata": {
  "kernelspec": {
   "display_name": "Python 3",
   "language": "python",
   "name": "python3"
  },
  "language_info": {
   "codemirror_mode": {
    "name": "ipython",
    "version": 3
   },
   "file_extension": ".py",
   "mimetype": "text/x-python",
   "name": "python",
   "nbconvert_exporter": "python",
   "pygments_lexer": "ipython3",
   "version": "3.6.2"
  }
 },
 "nbformat": 4,
 "nbformat_minor": 2
}
